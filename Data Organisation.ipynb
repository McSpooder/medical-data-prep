{
 "cells": [
  {
   "attachments": {},
   "cell_type": "markdown",
   "metadata": {},
   "source": [
    "# Looking at and Processing ADNI data."
   ]
  },
  {
   "cell_type": "code",
   "execution_count": 1,
   "metadata": {},
   "outputs": [],
   "source": [
    "import nibabel as nib\n",
    "import numpy as np\n",
    "from pathlib import PosixPath\n",
    "import os\n",
    "import matplotlib.pyplot as plt\n",
    "import pandas as pd\n",
    "import glob\n",
    "import shutil\n",
    "import pandas as pd\n",
    "import ntpath"
   ]
  },
  {
   "cell_type": "code",
   "execution_count": 2,
   "metadata": {},
   "outputs": [
    {
     "data": {
      "text/plain": [
       "<Figure size 640x480 with 0 Axes>"
      ]
     },
     "metadata": {},
     "output_type": "display_data"
    }
   ],
   "source": [
    "def show_image(image):\n",
    "    plt.imshow(image)\n",
    "    \n",
    "fig = plt.figure()"
   ]
  },
  {
   "cell_type": "code",
   "execution_count": 3,
   "metadata": {},
   "outputs": [],
   "source": [
    "#mri = nib.load(\"./ADNI/003_S_0908/Spatially_Normalized,_Masked_and_N3_corrected_T1_image/2014-01-06_13_40_49.0/S210040/ADNI_003_S_0908_MR_Spatially_Normalized,_Masked_and_N3_corrected_T1_image_Br_20140421160207788_S210040_I420849.nii\").get_fdata()\n",
    "mri = nib.load(\"./ADNI/003_S_0908/Spatially_Normalized,_Masked_and_N3_corrected_T1_image/2014-01-06_13_40_49.0/S210040/mri.nii\").get_fdata()"
   ]
  },
  {
   "cell_type": "code",
   "execution_count": 4,
   "metadata": {},
   "outputs": [
    {
     "name": "stdout",
     "output_type": "stream",
     "text": [
      "yes\n"
     ]
    }
   ],
   "source": [
    "dataframe = pd.read_csv(\"lon_clinical.csv\")\n",
    "dataframe.head()\n",
    "if (dataframe[dataframe[\"Image Data ID\"] == 614191][\"sMCI\"].any() == 1):\n",
    "    print(\"yes\")"
   ]
  },
  {
   "cell_type": "code",
   "execution_count": 5,
   "metadata": {},
   "outputs": [
    {
     "data": {
      "application/vnd.jupyter.widget-view+json": {
       "model_id": "d6161f41144c4da081a6cb4af2d81554",
       "version_major": 2,
       "version_minor": 0
      },
      "text/plain": [
       "interactive(children=(IntSlider(value=50, description='position'), Output()), _dom_classes=('widget-interact',…"
      ]
     },
     "metadata": {},
     "output_type": "display_data"
    }
   ],
   "source": [
    "\n",
    "from ipywidgets import interact\n",
    "\n",
    "@interact(position=(0,100))\n",
    "def update(position=50):\n",
    "    return show_image(mri[position])"
   ]
  },
  {
   "cell_type": "code",
   "execution_count": 41,
   "metadata": {},
   "outputs": [
    {
     "ename": "ValueError",
     "evalue": "invalid literal for int() with base 10: '_003_S_0908_MR_Spatially_Normalized,_Masked_and_N3_corrected_T1_image_Br_20140421160207788_S210040'",
     "output_type": "error",
     "traceback": [
      "\u001b[1;31m---------------------------------------------------------------------------\u001b[0m",
      "\u001b[1;31mValueError\u001b[0m                                Traceback (most recent call last)",
      "Cell \u001b[1;32mIn[41], line 29\u001b[0m\n\u001b[0;32m     27\u001b[0m \u001b[39mfor\u001b[39;00m folder5 \u001b[39min\u001b[39;00m glob\u001b[39m.\u001b[39mglob(folder4 \u001b[39m+\u001b[39m \u001b[39m\"\u001b[39m\u001b[39m/*\u001b[39m\u001b[39m\"\u001b[39m, recursive\u001b[39m=\u001b[39m\u001b[39mTrue\u001b[39;00m):\n\u001b[0;32m     28\u001b[0m     name \u001b[39m=\u001b[39m ntpath\u001b[39m.\u001b[39mbasename(folder5)\n\u001b[1;32m---> 29\u001b[0m     label \u001b[39m=\u001b[39m parse_name(name)\n\u001b[0;32m     30\u001b[0m     \u001b[39mif\u001b[39;00m (label \u001b[39m!=\u001b[39m \u001b[39mNone\u001b[39;00m):\n\u001b[0;32m     31\u001b[0m         shutil\u001b[39m.\u001b[39mcopy(folder5, \u001b[39m\"\u001b[39m\u001b[39m{}\u001b[39;00m\u001b[39m/\u001b[39m\u001b[39m{}\u001b[39;00m\u001b[39m\"\u001b[39m\u001b[39m.\u001b[39mformat(label, name) )\n",
      "Cell \u001b[1;32mIn[41], line 12\u001b[0m, in \u001b[0;36mparse_name\u001b[1;34m(in_str)\u001b[0m\n\u001b[0;32m     10\u001b[0m     \u001b[39mif\u001b[39;00m (in_str[i] \u001b[39m==\u001b[39m \u001b[39m\"\u001b[39m\u001b[39m.\u001b[39m\u001b[39m\"\u001b[39m):\n\u001b[0;32m     11\u001b[0m         record \u001b[39m=\u001b[39m \u001b[39mTrue\u001b[39;00m\n\u001b[1;32m---> 12\u001b[0m row \u001b[39m=\u001b[39m dataframe[dataframe[\u001b[39m\"\u001b[39m\u001b[39mImage Data ID\u001b[39m\u001b[39m\"\u001b[39m] \u001b[39m==\u001b[39m \u001b[39mint\u001b[39;49m(image_id_str[::\u001b[39m-\u001b[39;49m\u001b[39m1\u001b[39;49m])]\n\u001b[0;32m     13\u001b[0m \u001b[39mif\u001b[39;00m row[\u001b[39m\"\u001b[39m\u001b[39mAD\u001b[39m\u001b[39m\"\u001b[39m]\u001b[39m.\u001b[39many() \u001b[39m==\u001b[39m \u001b[39m1\u001b[39m:\n\u001b[0;32m     14\u001b[0m     \u001b[39mreturn\u001b[39;00m \u001b[39m\"\u001b[39m\u001b[39mAD\u001b[39m\u001b[39m\"\u001b[39m\n",
      "\u001b[1;31mValueError\u001b[0m: invalid literal for int() with base 10: '_003_S_0908_MR_Spatially_Normalized,_Masked_and_N3_corrected_T1_image_Br_20140421160207788_S210040'"
     ]
    }
   ],
   "source": [
    "def parse_name(in_str):\n",
    "    image_id_str = \"\"\n",
    "    record = False\n",
    "    for i in range(len(in_str)-1, 0, -1):\n",
    "        if in_str[i] == \"I\":\n",
    "            record = False\n",
    "            break\n",
    "        if record:\n",
    "            image_id_str += in_str[i]\n",
    "        if (in_str[i] == \".\"):\n",
    "            record = True\n",
    "    row = dataframe[dataframe[\"Image Data ID\"] == int(image_id_str[::-1])]\n",
    "    if row[\"AD\"].any() == 1:\n",
    "        return \"AD\"\n",
    "    elif row[\"CN\"].any() == 1:\n",
    "        return \"CN\"\n",
    "    elif row[\"pMCI\"].any() == 1:\n",
    "        return \"pMCI\"\n",
    "    elif row[\"sMCI\"].any() == 1:\n",
    "        return \"sMCI\"\n",
    "    \n",
    "        \n",
    "for folder1 in glob.glob(\"ADNI/*\", recursive=True):\n",
    "    for folder2 in glob.glob(folder1 + \"/*\", recursive=True):\n",
    "        for folder3 in glob.glob(folder2 + \"/*\", recursive=True):\n",
    "            for folder4 in glob.glob(folder3 + \"/*\", recursive=True):\n",
    "                for folder5 in glob.glob(folder4 + \"/*\", recursive=True):\n",
    "                    name = ntpath.basename(folder5)\n",
    "                    label = parse_name(name)\n",
    "                    if (label != None):\n",
    "                        shutil.copy(folder5, \"{}/{}\".format(label, name) )\n",
    "                    "
   ]
  },
  {
   "cell_type": "code",
   "execution_count": 2,
   "metadata": {},
   "outputs": [
    {
     "name": "stdout",
     "output_type": "stream",
     "text": [
      "Running on the GPU\n"
     ]
    }
   ],
   "source": [
    "import torch\n",
    "if torch.cuda.is_available():\n",
    "    DEVICE = torch.device(\"cuda:0\")\n",
    "    print(\"Running on the GPU\")\n",
    "else:\n",
    "    DEVICE = torch.device(\"cpu\")\n",
    "    print(\"Running on the CPU\")"
   ]
  },
  {
   "cell_type": "code",
   "execution_count": null,
   "metadata": {},
   "outputs": [],
   "source": [
    "print(torch.cuda.is_available())"
   ]
  },
  {
   "cell_type": "code",
   "execution_count": 1,
   "metadata": {},
   "outputs": [
    {
     "ename": "NameError",
     "evalue": "name 'torch' is not defined",
     "output_type": "error",
     "traceback": [
      "\u001b[0;31m---------------------------------------------------------------------------\u001b[0m",
      "\u001b[0;31mNameError\u001b[0m                                 Traceback (most recent call last)",
      "\u001b[0;32m<ipython-input-1-0904fac96cba>\u001b[0m in \u001b[0;36m<module>\u001b[0;34m\u001b[0m\n\u001b[0;32m----> 1\u001b[0;31m \u001b[0mtorch\u001b[0m\u001b[0;34m.\u001b[0m\u001b[0mzeros\u001b[0m\u001b[0;34m(\u001b[0m\u001b[0;36m1\u001b[0m\u001b[0;34m)\u001b[0m\u001b[0;34m.\u001b[0m\u001b[0mcuda\u001b[0m\u001b[0;34m(\u001b[0m\u001b[0;34m)\u001b[0m\u001b[0;34m\u001b[0m\u001b[0;34m\u001b[0m\u001b[0m\n\u001b[0m",
      "\u001b[0;31mNameError\u001b[0m: name 'torch' is not defined"
     ]
    }
   ],
   "source": [
    "torch.zeros(1).cuda()"
   ]
  },
  {
   "cell_type": "code",
   "execution_count": null,
   "metadata": {},
   "outputs": [],
   "source": []
  }
 ],
 "metadata": {
  "kernelspec": {
   "display_name": "cam-env",
   "language": "python",
   "name": "python3"
  },
  "language_info": {
   "codemirror_mode": {
    "name": "ipython",
    "version": 3
   },
   "file_extension": ".py",
   "mimetype": "text/x-python",
   "name": "python",
   "nbconvert_exporter": "python",
   "pygments_lexer": "ipython3",
   "version": "3.10.0"
  },
  "toc": {
   "base_numbering": 1,
   "nav_menu": {},
   "number_sections": true,
   "sideBar": true,
   "skip_h1_title": false,
   "title_cell": "Table of Contents",
   "title_sidebar": "Contents",
   "toc_cell": false,
   "toc_position": {
    "height": "827px",
    "left": "47px",
    "top": "110px",
    "width": "365px"
   },
   "toc_section_display": true,
   "toc_window_display": true
  }
 },
 "nbformat": 4,
 "nbformat_minor": 4
}
