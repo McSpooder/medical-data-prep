{
 "cells": [
  {
   "cell_type": "markdown",
   "metadata": {},
   "source": [
    "# Visualizing the clinical datasets"
   ]
  },
  {
   "cell_type": "code",
   "execution_count": 1,
   "metadata": {},
   "outputs": [],
   "source": [
    "import seaborn as sns\n",
    "import pandas as pd\n",
    "import matplotlib as plt"
   ]
  },
  {
   "cell_type": "code",
   "execution_count": 2,
   "metadata": {},
   "outputs": [],
   "source": [
    "bas_clin = pd.read_csv(\"./bas_clin_with_categorical.csv\")"
   ]
  },
  {
   "cell_type": "code",
   "execution_count": 3,
   "metadata": {},
   "outputs": [],
   "source": [
    "lon_clin = pd.read_csv(\"./lon_clin_with_categorical.csv\")"
   ]
  },
  {
   "cell_type": "code",
   "execution_count": 4,
   "metadata": {},
   "outputs": [
    {
     "data": {
      "text/html": [
       "<div>\n",
       "<style scoped>\n",
       "    .dataframe tbody tr th:only-of-type {\n",
       "        vertical-align: middle;\n",
       "    }\n",
       "\n",
       "    .dataframe tbody tr th {\n",
       "        vertical-align: top;\n",
       "    }\n",
       "\n",
       "    .dataframe thead th {\n",
       "        text-align: right;\n",
       "    }\n",
       "</style>\n",
       "<table border=\"1\" class=\"dataframe\">\n",
       "  <thead>\n",
       "    <tr style=\"text-align: right;\">\n",
       "      <th></th>\n",
       "      <th>Image Data ID</th>\n",
       "      <th>AGE</th>\n",
       "      <th>PTGENDER</th>\n",
       "      <th>PTEDUCAT</th>\n",
       "      <th>PTETHCAT</th>\n",
       "      <th>PTRACCAT</th>\n",
       "      <th>APOE4</th>\n",
       "      <th>CDRSB</th>\n",
       "      <th>ADAS11</th>\n",
       "      <th>ADAS13</th>\n",
       "      <th>RAVLT_immediate</th>\n",
       "      <th>RAVLT_learning</th>\n",
       "      <th>RAVLT_forgetting</th>\n",
       "      <th>RAVLT_perc_forgetting</th>\n",
       "      <th>label</th>\n",
       "    </tr>\n",
       "  </thead>\n",
       "  <tbody>\n",
       "    <tr>\n",
       "      <th>0</th>\n",
       "      <td>420849</td>\n",
       "      <td>62.9</td>\n",
       "      <td>Female</td>\n",
       "      <td>16</td>\n",
       "      <td>Not Hisp/Latino</td>\n",
       "      <td>White</td>\n",
       "      <td>0.0</td>\n",
       "      <td>1.5</td>\n",
       "      <td>8.0</td>\n",
       "      <td>11.0</td>\n",
       "      <td>42.0</td>\n",
       "      <td>10.0</td>\n",
       "      <td>1.0</td>\n",
       "      <td>7.69231</td>\n",
       "      <td>sMCI</td>\n",
       "    </tr>\n",
       "    <tr>\n",
       "      <th>1</th>\n",
       "      <td>786087</td>\n",
       "      <td>85.9</td>\n",
       "      <td>Male</td>\n",
       "      <td>16</td>\n",
       "      <td>Not Hisp/Latino</td>\n",
       "      <td>White</td>\n",
       "      <td>0.0</td>\n",
       "      <td>0.0</td>\n",
       "      <td>5.0</td>\n",
       "      <td>8.0</td>\n",
       "      <td>39.0</td>\n",
       "      <td>7.0</td>\n",
       "      <td>2.0</td>\n",
       "      <td>18.18180</td>\n",
       "      <td>sMCI</td>\n",
       "    </tr>\n",
       "    <tr>\n",
       "      <th>2</th>\n",
       "      <td>537823</td>\n",
       "      <td>85.0</td>\n",
       "      <td>Female</td>\n",
       "      <td>15</td>\n",
       "      <td>Not Hisp/Latino</td>\n",
       "      <td>White</td>\n",
       "      <td>0.0</td>\n",
       "      <td>1.0</td>\n",
       "      <td>12.0</td>\n",
       "      <td>23.0</td>\n",
       "      <td>28.0</td>\n",
       "      <td>2.0</td>\n",
       "      <td>6.0</td>\n",
       "      <td>85.71430</td>\n",
       "      <td>pMCI</td>\n",
       "    </tr>\n",
       "    <tr>\n",
       "      <th>3</th>\n",
       "      <td>537826</td>\n",
       "      <td>61.0</td>\n",
       "      <td>Female</td>\n",
       "      <td>12</td>\n",
       "      <td>Not Hisp/Latino</td>\n",
       "      <td>White</td>\n",
       "      <td>1.0</td>\n",
       "      <td>3.5</td>\n",
       "      <td>26.0</td>\n",
       "      <td>38.0</td>\n",
       "      <td>20.0</td>\n",
       "      <td>2.0</td>\n",
       "      <td>5.0</td>\n",
       "      <td>100.00000</td>\n",
       "      <td>sMCI</td>\n",
       "    </tr>\n",
       "    <tr>\n",
       "      <th>4</th>\n",
       "      <td>537827</td>\n",
       "      <td>72.6</td>\n",
       "      <td>Male</td>\n",
       "      <td>12</td>\n",
       "      <td>Not Hisp/Latino</td>\n",
       "      <td>White</td>\n",
       "      <td>1.0</td>\n",
       "      <td>8.0</td>\n",
       "      <td>18.0</td>\n",
       "      <td>29.0</td>\n",
       "      <td>22.0</td>\n",
       "      <td>4.0</td>\n",
       "      <td>5.0</td>\n",
       "      <td>83.33330</td>\n",
       "      <td>sMCI</td>\n",
       "    </tr>\n",
       "  </tbody>\n",
       "</table>\n",
       "</div>"
      ],
      "text/plain": [
       "   Image Data ID   AGE PTGENDER  PTEDUCAT         PTETHCAT PTRACCAT  APOE4  \\\n",
       "0         420849  62.9   Female        16  Not Hisp/Latino    White    0.0   \n",
       "1         786087  85.9     Male        16  Not Hisp/Latino    White    0.0   \n",
       "2         537823  85.0   Female        15  Not Hisp/Latino    White    0.0   \n",
       "3         537826  61.0   Female        12  Not Hisp/Latino    White    1.0   \n",
       "4         537827  72.6     Male        12  Not Hisp/Latino    White    1.0   \n",
       "\n",
       "   CDRSB  ADAS11  ADAS13  RAVLT_immediate  RAVLT_learning  RAVLT_forgetting  \\\n",
       "0    1.5     8.0    11.0             42.0            10.0               1.0   \n",
       "1    0.0     5.0     8.0             39.0             7.0               2.0   \n",
       "2    1.0    12.0    23.0             28.0             2.0               6.0   \n",
       "3    3.5    26.0    38.0             20.0             2.0               5.0   \n",
       "4    8.0    18.0    29.0             22.0             4.0               5.0   \n",
       "\n",
       "   RAVLT_perc_forgetting label  \n",
       "0                7.69231  sMCI  \n",
       "1               18.18180  sMCI  \n",
       "2               85.71430  pMCI  \n",
       "3              100.00000  sMCI  \n",
       "4               83.33330  sMCI  "
      ]
     },
     "execution_count": 4,
     "metadata": {},
     "output_type": "execute_result"
    }
   ],
   "source": [
    "bas_clin.head()"
   ]
  },
  {
   "cell_type": "code",
   "execution_count": 5,
   "metadata": {},
   "outputs": [
    {
     "data": {
      "text/html": [
       "<div>\n",
       "<style scoped>\n",
       "    .dataframe tbody tr th:only-of-type {\n",
       "        vertical-align: middle;\n",
       "    }\n",
       "\n",
       "    .dataframe tbody tr th {\n",
       "        vertical-align: top;\n",
       "    }\n",
       "\n",
       "    .dataframe thead th {\n",
       "        text-align: right;\n",
       "    }\n",
       "</style>\n",
       "<table border=\"1\" class=\"dataframe\">\n",
       "  <thead>\n",
       "    <tr style=\"text-align: right;\">\n",
       "      <th></th>\n",
       "      <th>Image Data ID</th>\n",
       "      <th>AGE</th>\n",
       "      <th>PTGENDER</th>\n",
       "      <th>PTEDUCAT</th>\n",
       "      <th>PTETHCAT</th>\n",
       "      <th>PTRACCAT</th>\n",
       "      <th>APOE4</th>\n",
       "      <th>CDRSB</th>\n",
       "      <th>ADAS11</th>\n",
       "      <th>ADAS13</th>\n",
       "      <th>RAVLT_immediate</th>\n",
       "      <th>RAVLT_learning</th>\n",
       "      <th>RAVLT_forgetting</th>\n",
       "      <th>RAVLT_perc_forgetting</th>\n",
       "      <th>label</th>\n",
       "    </tr>\n",
       "  </thead>\n",
       "  <tbody>\n",
       "    <tr>\n",
       "      <th>594</th>\n",
       "      <td>397037</td>\n",
       "      <td>72.7</td>\n",
       "      <td>Female</td>\n",
       "      <td>12</td>\n",
       "      <td>Not Hisp/Latino</td>\n",
       "      <td>White</td>\n",
       "      <td>1.0</td>\n",
       "      <td>0.0</td>\n",
       "      <td>11.0</td>\n",
       "      <td>14.0</td>\n",
       "      <td>31.0</td>\n",
       "      <td>6.0</td>\n",
       "      <td>9.0</td>\n",
       "      <td>100.0</td>\n",
       "      <td>CN</td>\n",
       "    </tr>\n",
       "  </tbody>\n",
       "</table>\n",
       "</div>"
      ],
      "text/plain": [
       "     Image Data ID   AGE PTGENDER  PTEDUCAT         PTETHCAT PTRACCAT  APOE4  \\\n",
       "594         397037  72.7   Female        12  Not Hisp/Latino    White    1.0   \n",
       "\n",
       "     CDRSB  ADAS11  ADAS13  RAVLT_immediate  RAVLT_learning  RAVLT_forgetting  \\\n",
       "594    0.0    11.0    14.0             31.0             6.0               9.0   \n",
       "\n",
       "     RAVLT_perc_forgetting label  \n",
       "594                  100.0    CN  "
      ]
     },
     "execution_count": 5,
     "metadata": {},
     "output_type": "execute_result"
    }
   ],
   "source": [
    "lon_clin[lon_clin[\"Image Data ID\"] == 397037]"
   ]
  },
  {
   "cell_type": "code",
   "execution_count": 6,
   "metadata": {},
   "outputs": [
    {
     "data": {
      "text/html": [
       "<div>\n",
       "<style scoped>\n",
       "    .dataframe tbody tr th:only-of-type {\n",
       "        vertical-align: middle;\n",
       "    }\n",
       "\n",
       "    .dataframe tbody tr th {\n",
       "        vertical-align: top;\n",
       "    }\n",
       "\n",
       "    .dataframe thead th {\n",
       "        text-align: right;\n",
       "    }\n",
       "</style>\n",
       "<table border=\"1\" class=\"dataframe\">\n",
       "  <thead>\n",
       "    <tr style=\"text-align: right;\">\n",
       "      <th></th>\n",
       "      <th>Image Data ID</th>\n",
       "      <th>AGE</th>\n",
       "      <th>PTGENDER</th>\n",
       "      <th>PTEDUCAT</th>\n",
       "      <th>PTETHCAT</th>\n",
       "      <th>PTRACCAT</th>\n",
       "      <th>APOE4</th>\n",
       "      <th>CDRSB</th>\n",
       "      <th>ADAS11</th>\n",
       "      <th>ADAS13</th>\n",
       "      <th>RAVLT_immediate</th>\n",
       "      <th>RAVLT_learning</th>\n",
       "      <th>RAVLT_forgetting</th>\n",
       "      <th>RAVLT_perc_forgetting</th>\n",
       "      <th>label</th>\n",
       "    </tr>\n",
       "  </thead>\n",
       "  <tbody>\n",
       "    <tr>\n",
       "      <th>0</th>\n",
       "      <td>420849</td>\n",
       "      <td>62.9</td>\n",
       "      <td>Female</td>\n",
       "      <td>16</td>\n",
       "      <td>Not Hisp/Latino</td>\n",
       "      <td>White</td>\n",
       "      <td>0.0</td>\n",
       "      <td>1.5</td>\n",
       "      <td>8.0</td>\n",
       "      <td>11.0</td>\n",
       "      <td>42.0</td>\n",
       "      <td>10.0</td>\n",
       "      <td>1.0</td>\n",
       "      <td>7.69231</td>\n",
       "      <td>sMCI</td>\n",
       "    </tr>\n",
       "    <tr>\n",
       "      <th>1</th>\n",
       "      <td>786087</td>\n",
       "      <td>85.9</td>\n",
       "      <td>Male</td>\n",
       "      <td>16</td>\n",
       "      <td>Not Hisp/Latino</td>\n",
       "      <td>White</td>\n",
       "      <td>0.0</td>\n",
       "      <td>0.0</td>\n",
       "      <td>5.0</td>\n",
       "      <td>8.0</td>\n",
       "      <td>39.0</td>\n",
       "      <td>7.0</td>\n",
       "      <td>2.0</td>\n",
       "      <td>18.18180</td>\n",
       "      <td>sMCI</td>\n",
       "    </tr>\n",
       "    <tr>\n",
       "      <th>2</th>\n",
       "      <td>537823</td>\n",
       "      <td>85.0</td>\n",
       "      <td>Female</td>\n",
       "      <td>15</td>\n",
       "      <td>Not Hisp/Latino</td>\n",
       "      <td>White</td>\n",
       "      <td>0.0</td>\n",
       "      <td>1.0</td>\n",
       "      <td>12.0</td>\n",
       "      <td>23.0</td>\n",
       "      <td>28.0</td>\n",
       "      <td>2.0</td>\n",
       "      <td>6.0</td>\n",
       "      <td>85.71430</td>\n",
       "      <td>pMCI</td>\n",
       "    </tr>\n",
       "    <tr>\n",
       "      <th>3</th>\n",
       "      <td>537826</td>\n",
       "      <td>61.0</td>\n",
       "      <td>Female</td>\n",
       "      <td>12</td>\n",
       "      <td>Not Hisp/Latino</td>\n",
       "      <td>White</td>\n",
       "      <td>1.0</td>\n",
       "      <td>3.5</td>\n",
       "      <td>26.0</td>\n",
       "      <td>38.0</td>\n",
       "      <td>20.0</td>\n",
       "      <td>2.0</td>\n",
       "      <td>5.0</td>\n",
       "      <td>100.00000</td>\n",
       "      <td>sMCI</td>\n",
       "    </tr>\n",
       "    <tr>\n",
       "      <th>4</th>\n",
       "      <td>537827</td>\n",
       "      <td>72.6</td>\n",
       "      <td>Male</td>\n",
       "      <td>12</td>\n",
       "      <td>Not Hisp/Latino</td>\n",
       "      <td>White</td>\n",
       "      <td>1.0</td>\n",
       "      <td>8.0</td>\n",
       "      <td>18.0</td>\n",
       "      <td>29.0</td>\n",
       "      <td>22.0</td>\n",
       "      <td>4.0</td>\n",
       "      <td>5.0</td>\n",
       "      <td>83.33330</td>\n",
       "      <td>sMCI</td>\n",
       "    </tr>\n",
       "  </tbody>\n",
       "</table>\n",
       "</div>"
      ],
      "text/plain": [
       "   Image Data ID   AGE PTGENDER  PTEDUCAT         PTETHCAT PTRACCAT  APOE4  \\\n",
       "0         420849  62.9   Female        16  Not Hisp/Latino    White    0.0   \n",
       "1         786087  85.9     Male        16  Not Hisp/Latino    White    0.0   \n",
       "2         537823  85.0   Female        15  Not Hisp/Latino    White    0.0   \n",
       "3         537826  61.0   Female        12  Not Hisp/Latino    White    1.0   \n",
       "4         537827  72.6     Male        12  Not Hisp/Latino    White    1.0   \n",
       "\n",
       "   CDRSB  ADAS11  ADAS13  RAVLT_immediate  RAVLT_learning  RAVLT_forgetting  \\\n",
       "0    1.5     8.0    11.0             42.0            10.0               1.0   \n",
       "1    0.0     5.0     8.0             39.0             7.0               2.0   \n",
       "2    1.0    12.0    23.0             28.0             2.0               6.0   \n",
       "3    3.5    26.0    38.0             20.0             2.0               5.0   \n",
       "4    8.0    18.0    29.0             22.0             4.0               5.0   \n",
       "\n",
       "   RAVLT_perc_forgetting label  \n",
       "0                7.69231  sMCI  \n",
       "1               18.18180  sMCI  \n",
       "2               85.71430  pMCI  \n",
       "3              100.00000  sMCI  \n",
       "4               83.33330  sMCI  "
      ]
     },
     "execution_count": 6,
     "metadata": {},
     "output_type": "execute_result"
    }
   ],
   "source": [
    "lon_clin.head()"
   ]
  },
  {
   "cell_type": "code",
   "execution_count": 7,
   "metadata": {},
   "outputs": [
    {
     "data": {
      "text/plain": [
       "array(['White', 'Black', 'Asian', 'More than one', 'Am Indian/Alaskan'],\n",
       "      dtype=object)"
      ]
     },
     "execution_count": 7,
     "metadata": {},
     "output_type": "execute_result"
    }
   ],
   "source": [
    "lon_clin[\"PTRACCAT\"].unique()"
   ]
  },
  {
   "cell_type": "code",
   "execution_count": 36,
   "metadata": {},
   "outputs": [
    {
     "data": {
      "text/plain": [
       "<seaborn.axisgrid.FacetGrid at 0x7f439a087670>"
      ]
     },
     "execution_count": 36,
     "metadata": {},
     "output_type": "execute_result"
    },
    {
     "data": {
      "image/png": "[encoded data removed]",
      "text/plain": [
       "<Figure size 360x360 with 1 Axes>"
      ]
     },
     "metadata": {
      "needs_background": "light"
     },
     "output_type": "display_data"
    }
   ],
   "source": [
    "sns.displot(bas_clin[\"AGE\"])"
   ]
  },
  {
   "cell_type": "markdown",
   "metadata": {},
   "source": [
    "## Baseline Data investigation"
   ]
  },
  {
   "cell_type": "markdown",
   "metadata": {},
   "source": [
    "### CN vs AD visualization"
   ]
  },
  {
   "cell_type": "code",
   "execution_count": 9,
   "metadata": {},
   "outputs": [],
   "source": [
    "cn_df = bas_clin[bas_clin[\"label\"] == \"CN\"]\n",
    "ad_df = bas_clin[bas_clin[\"label\"] == \"AD\"]"
   ]
  },
  {
   "cell_type": "code",
   "execution_count": 35,
   "metadata": {},
   "outputs": [
    {
     "data": {
      "text/plain": [
       "<seaborn.axisgrid.FacetGrid at 0x7f439a339430>"
      ]
     },
     "execution_count": 35,
     "metadata": {},
     "output_type": "execute_result"
    },
    {
     "data": {
      "image/png": "[encoded data removed]",
      "text/plain": [
       "<Figure size 360x360 with 1 Axes>"
      ]
     },
     "metadata": {
      "needs_background": "light"
     },
     "output_type": "display_data"
    },
    {
     "data": {
      "image/png": "[encoded data removed]",
      "text/plain": [
       "<Figure size 360x360 with 1 Axes>"
      ]
     },
     "metadata": {
      "needs_background": "light"
     },
     "output_type": "display_data"
    }
   ],
   "source": [
    "kde_kws = {\"color\": \"blue\", \"lw\": 2, \"label\": \"CN\", \"shade\":True}\n",
    "sns.displot(cn_df[\"AGE\"], kde_kws=kde_kws)\n",
    "\n",
    "kde_kws = {\"color\": \"magenta\", \"lw\": 2, \"label\": \"AD\", \"shade\":True}\n",
    "sns.displot(ad_df[\"AGE\"], color=\"magenta\", kde_kws=kde_kws)"
   ]
  },
  {
   "cell_type": "markdown",
   "metadata": {},
   "source": [
    "### sMCI vs pMCI visualization"
   ]
  },
  {
   "cell_type": "code",
   "execution_count": 11,
   "metadata": {},
   "outputs": [],
   "source": [
    "sMCI_df = bas_clin[bas_clin[\"label\"] == \"sMCI\"]\n",
    "pMCI_df = bas_clin[bas_clin[\"label\"] == \"pMCI\"]"
   ]
  },
  {
   "cell_type": "code",
   "execution_count": 24,
   "metadata": {},
   "outputs": [
    {
     "data": {
      "text/plain": [
       "<seaborn.axisgrid.FacetGrid at 0x7f43a13d70a0>"
      ]
     },
     "execution_count": 24,
     "metadata": {},
     "output_type": "execute_result"
    },
    {
     "data": {
      "image/png": "[encoded data removed]",
      "text/plain": [
       "<Figure size 360x360 with 1 Axes>"
      ]
     },
     "metadata": {
      "needs_background": "light"
     },
     "output_type": "display_data"
    },
    {
     "data": {
      "image/png": "[encoded data removed]",
      "text/plain": [
       "<Figure size 360x360 with 1 Axes>"
      ]
     },
     "metadata": {
      "needs_background": "light"
     },
     "output_type": "display_data"
    }
   ],
   "source": [
    "kde_kws = {\"color\": \"orange\", \"lw\": 2, \"label\": \"sMCI\", \"shade\":True}\n",
    "sns.displot(sMCI_df[\"AGE\"], kde_kws=kde_kws)\n",
    "\n",
    "kde_kws = {\"color\": \"red\", \"lw\": 2, \"label\": \"pMCI\", \"shade\":True}\n",
    "sns.displot(pMCI_df[\"AGE\"], color=\"magenta\", kde_kws=kde_kws)"
   ]
  },
  {
   "cell_type": "code",
   "execution_count": 25,
   "metadata": {},
   "outputs": [
    {
     "data": {
      "text/plain": [
       "<seaborn.axisgrid.FacetGrid at 0x7f43a143ee80>"
      ]
     },
     "execution_count": 25,
     "metadata": {},
     "output_type": "execute_result"
    },
    {
     "data": {
      "image/png": "[encoded data removed]",
      "text/plain": [
       "<Figure size 360x360 with 1 Axes>"
      ]
     },
     "metadata": {
      "needs_background": "light"
     },
     "output_type": "display_data"
    }
   ],
   "source": [
    "pMCI_df = bas_clin[bas_clin[\"label\"] == \"pMCI\"]\n",
    "sns.displot(pMCI_df[\"AGE\"], color=\"orange\", )"
   ]
  },
  {
   "cell_type": "code",
   "execution_count": 26,
   "metadata": {},
   "outputs": [
    {
     "data": {
      "text/plain": [
       "<seaborn.axisgrid.FacetGrid at 0x7f43a1401910>"
      ]
     },
     "execution_count": 26,
     "metadata": {},
     "output_type": "execute_result"
    },
    {
     "data": {
      "image/png": "[encoded data removed]",
      "text/plain": [
       "<Figure size 360x360 with 1 Axes>"
      ]
     },
     "metadata": {
      "needs_background": "light"
     },
     "output_type": "display_data"
    }
   ],
   "source": [
    "sns.displot(bas_clin[\"CDRSB\"])"
   ]
  },
  {
   "cell_type": "code",
   "execution_count": 27,
   "metadata": {},
   "outputs": [
    {
     "data": {
      "text/plain": [
       "<AxesSubplot:xlabel='label', ylabel='AGE'>"
      ]
     },
     "execution_count": 27,
     "metadata": {},
     "output_type": "execute_result"
    },
    {
     "data": {
      "image/png": "[encoded data removed]",
      "text/plain": [
       "<Figure size 432x288 with 1 Axes>"
      ]
     },
     "metadata": {
      "needs_background": "light"
     },
     "output_type": "display_data"
    }
   ],
   "source": [
    "sns.scatterplot(x='label', y='AGE', data=bas_clin, hue=\"PTRACCAT\")"
   ]
  },
  {
   "cell_type": "markdown",
   "metadata": {},
   "source": [
    "## Longitudinal data investigation"
   ]
  },
  {
   "cell_type": "code",
   "execution_count": 28,
   "metadata": {},
   "outputs": [
    {
     "data": {
      "text/html": [
       "<div>\n",
       "<style scoped>\n",
       "    .dataframe tbody tr th:only-of-type {\n",
       "        vertical-align: middle;\n",
       "    }\n",
       "\n",
       "    .dataframe tbody tr th {\n",
       "        vertical-align: top;\n",
       "    }\n",
       "\n",
       "    .dataframe thead th {\n",
       "        text-align: right;\n",
       "    }\n",
       "</style>\n",
       "<table border=\"1\" class=\"dataframe\">\n",
       "  <thead>\n",
       "    <tr style=\"text-align: right;\">\n",
       "      <th></th>\n",
       "      <th>Image Data ID</th>\n",
       "      <th>AGE</th>\n",
       "      <th>PTGENDER</th>\n",
       "      <th>PTEDUCAT</th>\n",
       "      <th>PTETHCAT</th>\n",
       "      <th>PTRACCAT</th>\n",
       "      <th>APOE4</th>\n",
       "      <th>CDRSB</th>\n",
       "      <th>ADAS11</th>\n",
       "      <th>ADAS13</th>\n",
       "      <th>RAVLT_immediate</th>\n",
       "      <th>RAVLT_learning</th>\n",
       "      <th>RAVLT_forgetting</th>\n",
       "      <th>RAVLT_perc_forgetting</th>\n",
       "      <th>label</th>\n",
       "    </tr>\n",
       "  </thead>\n",
       "  <tbody>\n",
       "    <tr>\n",
       "      <th>0</th>\n",
       "      <td>420849</td>\n",
       "      <td>62.9</td>\n",
       "      <td>Female</td>\n",
       "      <td>16</td>\n",
       "      <td>Not Hisp/Latino</td>\n",
       "      <td>White</td>\n",
       "      <td>0.0</td>\n",
       "      <td>1.5</td>\n",
       "      <td>8.0</td>\n",
       "      <td>11.0</td>\n",
       "      <td>42.0</td>\n",
       "      <td>10.0</td>\n",
       "      <td>1.0</td>\n",
       "      <td>7.69231</td>\n",
       "      <td>sMCI</td>\n",
       "    </tr>\n",
       "    <tr>\n",
       "      <th>1</th>\n",
       "      <td>786087</td>\n",
       "      <td>85.9</td>\n",
       "      <td>Male</td>\n",
       "      <td>16</td>\n",
       "      <td>Not Hisp/Latino</td>\n",
       "      <td>White</td>\n",
       "      <td>0.0</td>\n",
       "      <td>0.0</td>\n",
       "      <td>5.0</td>\n",
       "      <td>8.0</td>\n",
       "      <td>39.0</td>\n",
       "      <td>7.0</td>\n",
       "      <td>2.0</td>\n",
       "      <td>18.18180</td>\n",
       "      <td>sMCI</td>\n",
       "    </tr>\n",
       "    <tr>\n",
       "      <th>2</th>\n",
       "      <td>537823</td>\n",
       "      <td>85.0</td>\n",
       "      <td>Female</td>\n",
       "      <td>15</td>\n",
       "      <td>Not Hisp/Latino</td>\n",
       "      <td>White</td>\n",
       "      <td>0.0</td>\n",
       "      <td>1.0</td>\n",
       "      <td>12.0</td>\n",
       "      <td>23.0</td>\n",
       "      <td>28.0</td>\n",
       "      <td>2.0</td>\n",
       "      <td>6.0</td>\n",
       "      <td>85.71430</td>\n",
       "      <td>pMCI</td>\n",
       "    </tr>\n",
       "    <tr>\n",
       "      <th>3</th>\n",
       "      <td>537826</td>\n",
       "      <td>61.0</td>\n",
       "      <td>Female</td>\n",
       "      <td>12</td>\n",
       "      <td>Not Hisp/Latino</td>\n",
       "      <td>White</td>\n",
       "      <td>1.0</td>\n",
       "      <td>3.5</td>\n",
       "      <td>26.0</td>\n",
       "      <td>38.0</td>\n",
       "      <td>20.0</td>\n",
       "      <td>2.0</td>\n",
       "      <td>5.0</td>\n",
       "      <td>100.00000</td>\n",
       "      <td>sMCI</td>\n",
       "    </tr>\n",
       "    <tr>\n",
       "      <th>4</th>\n",
       "      <td>537827</td>\n",
       "      <td>72.6</td>\n",
       "      <td>Male</td>\n",
       "      <td>12</td>\n",
       "      <td>Not Hisp/Latino</td>\n",
       "      <td>White</td>\n",
       "      <td>1.0</td>\n",
       "      <td>8.0</td>\n",
       "      <td>18.0</td>\n",
       "      <td>29.0</td>\n",
       "      <td>22.0</td>\n",
       "      <td>4.0</td>\n",
       "      <td>5.0</td>\n",
       "      <td>83.33330</td>\n",
       "      <td>sMCI</td>\n",
       "    </tr>\n",
       "  </tbody>\n",
       "</table>\n",
       "</div>"
      ],
      "text/plain": [
       "   Image Data ID   AGE PTGENDER  PTEDUCAT         PTETHCAT PTRACCAT  APOE4  \\\n",
       "0         420849  62.9   Female        16  Not Hisp/Latino    White    0.0   \n",
       "1         786087  85.9     Male        16  Not Hisp/Latino    White    0.0   \n",
       "2         537823  85.0   Female        15  Not Hisp/Latino    White    0.0   \n",
       "3         537826  61.0   Female        12  Not Hisp/Latino    White    1.0   \n",
       "4         537827  72.6     Male        12  Not Hisp/Latino    White    1.0   \n",
       "\n",
       "   CDRSB  ADAS11  ADAS13  RAVLT_immediate  RAVLT_learning  RAVLT_forgetting  \\\n",
       "0    1.5     8.0    11.0             42.0            10.0               1.0   \n",
       "1    0.0     5.0     8.0             39.0             7.0               2.0   \n",
       "2    1.0    12.0    23.0             28.0             2.0               6.0   \n",
       "3    3.5    26.0    38.0             20.0             2.0               5.0   \n",
       "4    8.0    18.0    29.0             22.0             4.0               5.0   \n",
       "\n",
       "   RAVLT_perc_forgetting label  \n",
       "0                7.69231  sMCI  \n",
       "1               18.18180  sMCI  \n",
       "2               85.71430  pMCI  \n",
       "3              100.00000  sMCI  \n",
       "4               83.33330  sMCI  "
      ]
     },
     "execution_count": 28,
     "metadata": {},
     "output_type": "execute_result"
    }
   ],
   "source": [
    "lon_clin.head()"
   ]
  },
  {
   "cell_type": "code",
   "execution_count": 29,
   "metadata": {},
   "outputs": [],
   "source": [
    "lon_cn_df   = lon_clin[lon_clin[\"label\"] == \"CN\"]\n",
    "lon_smci_df = lon_clin[lon_clin[\"label\"] == \"sMCI\"]\n",
    "lon_pmci_df = lon_clin[lon_clin[\"label\"] == \"pMCI\"]\n",
    "lon_ad_df   = lon_clin[lon_clin[\"label\"] == \"AD\"]"
   ]
  },
  {
   "cell_type": "code",
   "execution_count": 30,
   "metadata": {},
   "outputs": [
    {
     "data": {
      "text/html": [
       "<div>\n",
       "<style scoped>\n",
       "    .dataframe tbody tr th:only-of-type {\n",
       "        vertical-align: middle;\n",
       "    }\n",
       "\n",
       "    .dataframe tbody tr th {\n",
       "        vertical-align: top;\n",
       "    }\n",
       "\n",
       "    .dataframe thead th {\n",
       "        text-align: right;\n",
       "    }\n",
       "</style>\n",
       "<table border=\"1\" class=\"dataframe\">\n",
       "  <thead>\n",
       "    <tr style=\"text-align: right;\">\n",
       "      <th></th>\n",
       "      <th>Image Data ID</th>\n",
       "      <th>AGE</th>\n",
       "      <th>PTEDUCAT</th>\n",
       "      <th>APOE4</th>\n",
       "      <th>CDRSB</th>\n",
       "      <th>ADAS11</th>\n",
       "      <th>ADAS13</th>\n",
       "      <th>RAVLT_immediate</th>\n",
       "      <th>RAVLT_learning</th>\n",
       "      <th>RAVLT_forgetting</th>\n",
       "      <th>RAVLT_perc_forgetting</th>\n",
       "    </tr>\n",
       "  </thead>\n",
       "  <tbody>\n",
       "    <tr>\n",
       "      <th>count</th>\n",
       "      <td>223.000000</td>\n",
       "      <td>223.000000</td>\n",
       "      <td>223.000000</td>\n",
       "      <td>223.000000</td>\n",
       "      <td>223.000000</td>\n",
       "      <td>223.000000</td>\n",
       "      <td>223.000000</td>\n",
       "      <td>223.000000</td>\n",
       "      <td>223.000000</td>\n",
       "      <td>223.000000</td>\n",
       "      <td>223.000000</td>\n",
       "    </tr>\n",
       "    <tr>\n",
       "      <th>mean</th>\n",
       "      <td>399686.744395</td>\n",
       "      <td>73.146637</td>\n",
       "      <td>16.421525</td>\n",
       "      <td>0.322870</td>\n",
       "      <td>0.233184</td>\n",
       "      <td>5.669686</td>\n",
       "      <td>8.965650</td>\n",
       "      <td>43.085202</td>\n",
       "      <td>5.412556</td>\n",
       "      <td>4.502242</td>\n",
       "      <td>45.610289</td>\n",
       "    </tr>\n",
       "    <tr>\n",
       "      <th>std</th>\n",
       "      <td>124266.544754</td>\n",
       "      <td>5.889139</td>\n",
       "      <td>2.747953</td>\n",
       "      <td>0.468625</td>\n",
       "      <td>0.853911</td>\n",
       "      <td>3.546529</td>\n",
       "      <td>5.342214</td>\n",
       "      <td>10.008866</td>\n",
       "      <td>2.254170</td>\n",
       "      <td>2.686091</td>\n",
       "      <td>28.854086</td>\n",
       "    </tr>\n",
       "    <tr>\n",
       "      <th>min</th>\n",
       "      <td>298790.000000</td>\n",
       "      <td>59.800000</td>\n",
       "      <td>10.000000</td>\n",
       "      <td>0.000000</td>\n",
       "      <td>0.000000</td>\n",
       "      <td>1.000000</td>\n",
       "      <td>1.000000</td>\n",
       "      <td>18.000000</td>\n",
       "      <td>-1.000000</td>\n",
       "      <td>-2.000000</td>\n",
       "      <td>-20.000000</td>\n",
       "    </tr>\n",
       "    <tr>\n",
       "      <th>25%</th>\n",
       "      <td>334768.500000</td>\n",
       "      <td>70.100000</td>\n",
       "      <td>14.000000</td>\n",
       "      <td>0.000000</td>\n",
       "      <td>0.000000</td>\n",
       "      <td>3.000000</td>\n",
       "      <td>5.500000</td>\n",
       "      <td>37.000000</td>\n",
       "      <td>4.000000</td>\n",
       "      <td>3.000000</td>\n",
       "      <td>25.000000</td>\n",
       "    </tr>\n",
       "    <tr>\n",
       "      <th>50%</th>\n",
       "      <td>356743.000000</td>\n",
       "      <td>72.500000</td>\n",
       "      <td>16.000000</td>\n",
       "      <td>0.000000</td>\n",
       "      <td>0.000000</td>\n",
       "      <td>5.000000</td>\n",
       "      <td>9.000000</td>\n",
       "      <td>44.000000</td>\n",
       "      <td>5.000000</td>\n",
       "      <td>5.000000</td>\n",
       "      <td>44.444400</td>\n",
       "    </tr>\n",
       "    <tr>\n",
       "      <th>75%</th>\n",
       "      <td>413158.000000</td>\n",
       "      <td>76.200000</td>\n",
       "      <td>19.000000</td>\n",
       "      <td>1.000000</td>\n",
       "      <td>0.000000</td>\n",
       "      <td>7.000000</td>\n",
       "      <td>11.000000</td>\n",
       "      <td>49.000000</td>\n",
       "      <td>7.000000</td>\n",
       "      <td>6.000000</td>\n",
       "      <td>66.666700</td>\n",
       "    </tr>\n",
       "    <tr>\n",
       "      <th>max</th>\n",
       "      <td>845683.000000</td>\n",
       "      <td>89.000000</td>\n",
       "      <td>20.000000</td>\n",
       "      <td>1.000000</td>\n",
       "      <td>6.000000</td>\n",
       "      <td>22.000000</td>\n",
       "      <td>32.000000</td>\n",
       "      <td>71.000000</td>\n",
       "      <td>12.000000</td>\n",
       "      <td>13.000000</td>\n",
       "      <td>100.000000</td>\n",
       "    </tr>\n",
       "  </tbody>\n",
       "</table>\n",
       "</div>"
      ],
      "text/plain": [
       "       Image Data ID         AGE    PTEDUCAT       APOE4       CDRSB  \\\n",
       "count     223.000000  223.000000  223.000000  223.000000  223.000000   \n",
       "mean   399686.744395   73.146637   16.421525    0.322870    0.233184   \n",
       "std    124266.544754    5.889139    2.747953    0.468625    0.853911   \n",
       "min    298790.000000   59.800000   10.000000    0.000000    0.000000   \n",
       "25%    334768.500000   70.100000   14.000000    0.000000    0.000000   \n",
       "50%    356743.000000   72.500000   16.000000    0.000000    0.000000   \n",
       "75%    413158.000000   76.200000   19.000000    1.000000    0.000000   \n",
       "max    845683.000000   89.000000   20.000000    1.000000    6.000000   \n",
       "\n",
       "           ADAS11      ADAS13  RAVLT_immediate  RAVLT_learning  \\\n",
       "count  223.000000  223.000000       223.000000      223.000000   \n",
       "mean     5.669686    8.965650        43.085202        5.412556   \n",
       "std      3.546529    5.342214        10.008866        2.254170   \n",
       "min      1.000000    1.000000        18.000000       -1.000000   \n",
       "25%      3.000000    5.500000        37.000000        4.000000   \n",
       "50%      5.000000    9.000000        44.000000        5.000000   \n",
       "75%      7.000000   11.000000        49.000000        7.000000   \n",
       "max     22.000000   32.000000        71.000000       12.000000   \n",
       "\n",
       "       RAVLT_forgetting  RAVLT_perc_forgetting  \n",
       "count        223.000000             223.000000  \n",
       "mean           4.502242              45.610289  \n",
       "std            2.686091              28.854086  \n",
       "min           -2.000000             -20.000000  \n",
       "25%            3.000000              25.000000  \n",
       "50%            5.000000              44.444400  \n",
       "75%            6.000000              66.666700  \n",
       "max           13.000000             100.000000  "
      ]
     },
     "execution_count": 30,
     "metadata": {},
     "output_type": "execute_result"
    }
   ],
   "source": [
    "lon_cn_df.describe()"
   ]
  },
  {
   "cell_type": "code",
   "execution_count": 31,
   "metadata": {},
   "outputs": [
    {
     "data": {
      "text/html": [
       "<div>\n",
       "<style scoped>\n",
       "    .dataframe tbody tr th:only-of-type {\n",
       "        vertical-align: middle;\n",
       "    }\n",
       "\n",
       "    .dataframe tbody tr th {\n",
       "        vertical-align: top;\n",
       "    }\n",
       "\n",
       "    .dataframe thead th {\n",
       "        text-align: right;\n",
       "    }\n",
       "</style>\n",
       "<table border=\"1\" class=\"dataframe\">\n",
       "  <thead>\n",
       "    <tr style=\"text-align: right;\">\n",
       "      <th></th>\n",
       "      <th>Image Data ID</th>\n",
       "      <th>AGE</th>\n",
       "      <th>PTEDUCAT</th>\n",
       "      <th>APOE4</th>\n",
       "      <th>CDRSB</th>\n",
       "      <th>ADAS11</th>\n",
       "      <th>ADAS13</th>\n",
       "      <th>RAVLT_immediate</th>\n",
       "      <th>RAVLT_learning</th>\n",
       "      <th>RAVLT_forgetting</th>\n",
       "      <th>RAVLT_perc_forgetting</th>\n",
       "    </tr>\n",
       "  </thead>\n",
       "  <tbody>\n",
       "    <tr>\n",
       "      <th>count</th>\n",
       "      <td>386.000000</td>\n",
       "      <td>386.000000</td>\n",
       "      <td>386.000000</td>\n",
       "      <td>386.000000</td>\n",
       "      <td>386.000000</td>\n",
       "      <td>386.000000</td>\n",
       "      <td>386.000000</td>\n",
       "      <td>386.000000</td>\n",
       "      <td>386.000000</td>\n",
       "      <td>386.000000</td>\n",
       "      <td>386.000000</td>\n",
       "    </tr>\n",
       "    <tr>\n",
       "      <th>mean</th>\n",
       "      <td>400374.103627</td>\n",
       "      <td>71.574352</td>\n",
       "      <td>16.020725</td>\n",
       "      <td>0.608808</td>\n",
       "      <td>1.371762</td>\n",
       "      <td>8.581166</td>\n",
       "      <td>13.767694</td>\n",
       "      <td>34.870466</td>\n",
       "      <td>4.569948</td>\n",
       "      <td>4.756477</td>\n",
       "      <td>57.816525</td>\n",
       "    </tr>\n",
       "    <tr>\n",
       "      <th>std</th>\n",
       "      <td>130295.640019</td>\n",
       "      <td>7.429369</td>\n",
       "      <td>2.686104</td>\n",
       "      <td>0.702371</td>\n",
       "      <td>1.005701</td>\n",
       "      <td>4.094181</td>\n",
       "      <td>6.137467</td>\n",
       "      <td>10.231543</td>\n",
       "      <td>2.138461</td>\n",
       "      <td>2.437323</td>\n",
       "      <td>31.243362</td>\n",
       "    </tr>\n",
       "    <tr>\n",
       "      <th>min</th>\n",
       "      <td>298789.000000</td>\n",
       "      <td>55.000000</td>\n",
       "      <td>11.000000</td>\n",
       "      <td>0.000000</td>\n",
       "      <td>0.000000</td>\n",
       "      <td>1.000000</td>\n",
       "      <td>2.000000</td>\n",
       "      <td>14.000000</td>\n",
       "      <td>-1.000000</td>\n",
       "      <td>-4.000000</td>\n",
       "      <td>-36.363600</td>\n",
       "    </tr>\n",
       "    <tr>\n",
       "      <th>25%</th>\n",
       "      <td>298988.750000</td>\n",
       "      <td>66.300000</td>\n",
       "      <td>14.000000</td>\n",
       "      <td>0.000000</td>\n",
       "      <td>0.500000</td>\n",
       "      <td>5.000000</td>\n",
       "      <td>9.000000</td>\n",
       "      <td>28.000000</td>\n",
       "      <td>3.000000</td>\n",
       "      <td>3.000000</td>\n",
       "      <td>36.363600</td>\n",
       "    </tr>\n",
       "    <tr>\n",
       "      <th>50%</th>\n",
       "      <td>356752.000000</td>\n",
       "      <td>71.800000</td>\n",
       "      <td>16.000000</td>\n",
       "      <td>0.000000</td>\n",
       "      <td>1.000000</td>\n",
       "      <td>8.000000</td>\n",
       "      <td>13.500000</td>\n",
       "      <td>34.500000</td>\n",
       "      <td>4.000000</td>\n",
       "      <td>5.000000</td>\n",
       "      <td>57.142900</td>\n",
       "    </tr>\n",
       "    <tr>\n",
       "      <th>75%</th>\n",
       "      <td>420868.500000</td>\n",
       "      <td>76.600000</td>\n",
       "      <td>18.000000</td>\n",
       "      <td>1.000000</td>\n",
       "      <td>2.000000</td>\n",
       "      <td>11.000000</td>\n",
       "      <td>17.000000</td>\n",
       "      <td>40.000000</td>\n",
       "      <td>6.000000</td>\n",
       "      <td>6.000000</td>\n",
       "      <td>85.714300</td>\n",
       "    </tr>\n",
       "    <tr>\n",
       "      <th>max</th>\n",
       "      <td>880419.000000</td>\n",
       "      <td>87.800000</td>\n",
       "      <td>20.000000</td>\n",
       "      <td>2.000000</td>\n",
       "      <td>8.000000</td>\n",
       "      <td>26.000000</td>\n",
       "      <td>38.000000</td>\n",
       "      <td>70.000000</td>\n",
       "      <td>11.000000</td>\n",
       "      <td>12.000000</td>\n",
       "      <td>100.000000</td>\n",
       "    </tr>\n",
       "  </tbody>\n",
       "</table>\n",
       "</div>"
      ],
      "text/plain": [
       "       Image Data ID         AGE    PTEDUCAT       APOE4       CDRSB  \\\n",
       "count     386.000000  386.000000  386.000000  386.000000  386.000000   \n",
       "mean   400374.103627   71.574352   16.020725    0.608808    1.371762   \n",
       "std    130295.640019    7.429369    2.686104    0.702371    1.005701   \n",
       "min    298789.000000   55.000000   11.000000    0.000000    0.000000   \n",
       "25%    298988.750000   66.300000   14.000000    0.000000    0.500000   \n",
       "50%    356752.000000   71.800000   16.000000    0.000000    1.000000   \n",
       "75%    420868.500000   76.600000   18.000000    1.000000    2.000000   \n",
       "max    880419.000000   87.800000   20.000000    2.000000    8.000000   \n",
       "\n",
       "           ADAS11      ADAS13  RAVLT_immediate  RAVLT_learning  \\\n",
       "count  386.000000  386.000000       386.000000      386.000000   \n",
       "mean     8.581166   13.767694        34.870466        4.569948   \n",
       "std      4.094181    6.137467        10.231543        2.138461   \n",
       "min      1.000000    2.000000        14.000000       -1.000000   \n",
       "25%      5.000000    9.000000        28.000000        3.000000   \n",
       "50%      8.000000   13.500000        34.500000        4.000000   \n",
       "75%     11.000000   17.000000        40.000000        6.000000   \n",
       "max     26.000000   38.000000        70.000000       11.000000   \n",
       "\n",
       "       RAVLT_forgetting  RAVLT_perc_forgetting  \n",
       "count        386.000000             386.000000  \n",
       "mean           4.756477              57.816525  \n",
       "std            2.437323              31.243362  \n",
       "min           -4.000000             -36.363600  \n",
       "25%            3.000000              36.363600  \n",
       "50%            5.000000              57.142900  \n",
       "75%            6.000000              85.714300  \n",
       "max           12.000000             100.000000  "
      ]
     },
     "execution_count": 31,
     "metadata": {},
     "output_type": "execute_result"
    }
   ],
   "source": [
    "lon_smci_df.describe()"
   ]
  },
  {
   "cell_type": "code",
   "execution_count": 32,
   "metadata": {},
   "outputs": [
    {
     "data": {
      "text/html": [
       "<div>\n",
       "<style scoped>\n",
       "    .dataframe tbody tr th:only-of-type {\n",
       "        vertical-align: middle;\n",
       "    }\n",
       "\n",
       "    .dataframe tbody tr th {\n",
       "        vertical-align: top;\n",
       "    }\n",
       "\n",
       "    .dataframe thead th {\n",
       "        text-align: right;\n",
       "    }\n",
       "</style>\n",
       "<table border=\"1\" class=\"dataframe\">\n",
       "  <thead>\n",
       "    <tr style=\"text-align: right;\">\n",
       "      <th></th>\n",
       "      <th>Image Data ID</th>\n",
       "      <th>AGE</th>\n",
       "      <th>PTEDUCAT</th>\n",
       "      <th>APOE4</th>\n",
       "      <th>CDRSB</th>\n",
       "      <th>ADAS11</th>\n",
       "      <th>ADAS13</th>\n",
       "      <th>RAVLT_immediate</th>\n",
       "      <th>RAVLT_learning</th>\n",
       "      <th>RAVLT_forgetting</th>\n",
       "      <th>RAVLT_perc_forgetting</th>\n",
       "    </tr>\n",
       "  </thead>\n",
       "  <tbody>\n",
       "    <tr>\n",
       "      <th>count</th>\n",
       "      <td>155.000000</td>\n",
       "      <td>155.000000</td>\n",
       "      <td>155.000000</td>\n",
       "      <td>155.000000</td>\n",
       "      <td>155.000000</td>\n",
       "      <td>155.000000</td>\n",
       "      <td>155.000000</td>\n",
       "      <td>155.000000</td>\n",
       "      <td>155.000000</td>\n",
       "      <td>155.000000</td>\n",
       "      <td>155.000000</td>\n",
       "    </tr>\n",
       "    <tr>\n",
       "      <th>mean</th>\n",
       "      <td>393148.580645</td>\n",
       "      <td>74.982581</td>\n",
       "      <td>15.948387</td>\n",
       "      <td>0.929032</td>\n",
       "      <td>2.735484</td>\n",
       "      <td>13.780645</td>\n",
       "      <td>22.167742</td>\n",
       "      <td>26.445161</td>\n",
       "      <td>2.677419</td>\n",
       "      <td>5.032258</td>\n",
       "      <td>81.914237</td>\n",
       "    </tr>\n",
       "    <tr>\n",
       "      <th>std</th>\n",
       "      <td>108400.829754</td>\n",
       "      <td>6.037460</td>\n",
       "      <td>2.637870</td>\n",
       "      <td>0.625328</td>\n",
       "      <td>1.726709</td>\n",
       "      <td>5.757289</td>\n",
       "      <td>7.918267</td>\n",
       "      <td>7.788721</td>\n",
       "      <td>1.783530</td>\n",
       "      <td>2.039924</td>\n",
       "      <td>27.833966</td>\n",
       "    </tr>\n",
       "    <tr>\n",
       "      <th>min</th>\n",
       "      <td>298805.000000</td>\n",
       "      <td>56.500000</td>\n",
       "      <td>12.000000</td>\n",
       "      <td>0.000000</td>\n",
       "      <td>0.500000</td>\n",
       "      <td>3.000000</td>\n",
       "      <td>7.000000</td>\n",
       "      <td>6.000000</td>\n",
       "      <td>-1.000000</td>\n",
       "      <td>-1.000000</td>\n",
       "      <td>-20.000000</td>\n",
       "    </tr>\n",
       "    <tr>\n",
       "      <th>25%</th>\n",
       "      <td>334797.500000</td>\n",
       "      <td>72.000000</td>\n",
       "      <td>14.000000</td>\n",
       "      <td>1.000000</td>\n",
       "      <td>1.500000</td>\n",
       "      <td>9.000000</td>\n",
       "      <td>16.000000</td>\n",
       "      <td>20.000000</td>\n",
       "      <td>1.000000</td>\n",
       "      <td>4.000000</td>\n",
       "      <td>70.833350</td>\n",
       "    </tr>\n",
       "    <tr>\n",
       "      <th>50%</th>\n",
       "      <td>356759.000000</td>\n",
       "      <td>75.300000</td>\n",
       "      <td>16.000000</td>\n",
       "      <td>1.000000</td>\n",
       "      <td>2.500000</td>\n",
       "      <td>14.000000</td>\n",
       "      <td>23.000000</td>\n",
       "      <td>26.000000</td>\n",
       "      <td>2.000000</td>\n",
       "      <td>5.000000</td>\n",
       "      <td>100.000000</td>\n",
       "    </tr>\n",
       "    <tr>\n",
       "      <th>75%</th>\n",
       "      <td>413170.500000</td>\n",
       "      <td>78.100000</td>\n",
       "      <td>18.000000</td>\n",
       "      <td>1.000000</td>\n",
       "      <td>3.500000</td>\n",
       "      <td>17.000000</td>\n",
       "      <td>27.000000</td>\n",
       "      <td>32.000000</td>\n",
       "      <td>4.000000</td>\n",
       "      <td>6.000000</td>\n",
       "      <td>100.000000</td>\n",
       "    </tr>\n",
       "    <tr>\n",
       "      <th>max</th>\n",
       "      <td>812591.000000</td>\n",
       "      <td>85.900000</td>\n",
       "      <td>20.000000</td>\n",
       "      <td>2.000000</td>\n",
       "      <td>12.000000</td>\n",
       "      <td>32.000000</td>\n",
       "      <td>45.000000</td>\n",
       "      <td>43.000000</td>\n",
       "      <td>7.000000</td>\n",
       "      <td>10.000000</td>\n",
       "      <td>100.000000</td>\n",
       "    </tr>\n",
       "  </tbody>\n",
       "</table>\n",
       "</div>"
      ],
      "text/plain": [
       "       Image Data ID         AGE    PTEDUCAT       APOE4       CDRSB  \\\n",
       "count     155.000000  155.000000  155.000000  155.000000  155.000000   \n",
       "mean   393148.580645   74.982581   15.948387    0.929032    2.735484   \n",
       "std    108400.829754    6.037460    2.637870    0.625328    1.726709   \n",
       "min    298805.000000   56.500000   12.000000    0.000000    0.500000   \n",
       "25%    334797.500000   72.000000   14.000000    1.000000    1.500000   \n",
       "50%    356759.000000   75.300000   16.000000    1.000000    2.500000   \n",
       "75%    413170.500000   78.100000   18.000000    1.000000    3.500000   \n",
       "max    812591.000000   85.900000   20.000000    2.000000   12.000000   \n",
       "\n",
       "           ADAS11      ADAS13  RAVLT_immediate  RAVLT_learning  \\\n",
       "count  155.000000  155.000000       155.000000      155.000000   \n",
       "mean    13.780645   22.167742        26.445161        2.677419   \n",
       "std      5.757289    7.918267         7.788721        1.783530   \n",
       "min      3.000000    7.000000         6.000000       -1.000000   \n",
       "25%      9.000000   16.000000        20.000000        1.000000   \n",
       "50%     14.000000   23.000000        26.000000        2.000000   \n",
       "75%     17.000000   27.000000        32.000000        4.000000   \n",
       "max     32.000000   45.000000        43.000000        7.000000   \n",
       "\n",
       "       RAVLT_forgetting  RAVLT_perc_forgetting  \n",
       "count        155.000000             155.000000  \n",
       "mean           5.032258              81.914237  \n",
       "std            2.039924              27.833966  \n",
       "min           -1.000000             -20.000000  \n",
       "25%            4.000000              70.833350  \n",
       "50%            5.000000             100.000000  \n",
       "75%            6.000000             100.000000  \n",
       "max           10.000000             100.000000  "
      ]
     },
     "execution_count": 32,
     "metadata": {},
     "output_type": "execute_result"
    }
   ],
   "source": [
    "lon_pmci_df.describe()"
   ]
  },
  {
   "cell_type": "code",
   "execution_count": 33,
   "metadata": {},
   "outputs": [
    {
     "data": {
      "text/html": [
       "<div>\n",
       "<style scoped>\n",
       "    .dataframe tbody tr th:only-of-type {\n",
       "        vertical-align: middle;\n",
       "    }\n",
       "\n",
       "    .dataframe tbody tr th {\n",
       "        vertical-align: top;\n",
       "    }\n",
       "\n",
       "    .dataframe thead th {\n",
       "        text-align: right;\n",
       "    }\n",
       "</style>\n",
       "<table border=\"1\" class=\"dataframe\">\n",
       "  <thead>\n",
       "    <tr style=\"text-align: right;\">\n",
       "      <th></th>\n",
       "      <th>Image Data ID</th>\n",
       "      <th>AGE</th>\n",
       "      <th>PTEDUCAT</th>\n",
       "      <th>APOE4</th>\n",
       "      <th>CDRSB</th>\n",
       "      <th>ADAS11</th>\n",
       "      <th>ADAS13</th>\n",
       "      <th>RAVLT_immediate</th>\n",
       "      <th>RAVLT_learning</th>\n",
       "      <th>RAVLT_forgetting</th>\n",
       "      <th>RAVLT_perc_forgetting</th>\n",
       "    </tr>\n",
       "  </thead>\n",
       "  <tbody>\n",
       "    <tr>\n",
       "      <th>count</th>\n",
       "      <td>154.000000</td>\n",
       "      <td>154.000000</td>\n",
       "      <td>154.000000</td>\n",
       "      <td>154.000000</td>\n",
       "      <td>154.000000</td>\n",
       "      <td>154.000000</td>\n",
       "      <td>154.000000</td>\n",
       "      <td>154.000000</td>\n",
       "      <td>154.000000</td>\n",
       "      <td>154.000000</td>\n",
       "      <td>154.000000</td>\n",
       "    </tr>\n",
       "    <tr>\n",
       "      <th>mean</th>\n",
       "      <td>371686.935065</td>\n",
       "      <td>75.142857</td>\n",
       "      <td>15.636364</td>\n",
       "      <td>0.831169</td>\n",
       "      <td>5.233766</td>\n",
       "      <td>22.201299</td>\n",
       "      <td>32.701299</td>\n",
       "      <td>20.116883</td>\n",
       "      <td>1.649351</td>\n",
       "      <td>4.155844</td>\n",
       "      <td>93.876006</td>\n",
       "    </tr>\n",
       "    <tr>\n",
       "      <th>std</th>\n",
       "      <td>52242.521275</td>\n",
       "      <td>8.503485</td>\n",
       "      <td>2.832625</td>\n",
       "      <td>0.674515</td>\n",
       "      <td>2.011543</td>\n",
       "      <td>7.228647</td>\n",
       "      <td>8.637303</td>\n",
       "      <td>6.409703</td>\n",
       "      <td>1.795173</td>\n",
       "      <td>1.661285</td>\n",
       "      <td>12.383018</td>\n",
       "    </tr>\n",
       "    <tr>\n",
       "      <th>min</th>\n",
       "      <td>298792.000000</td>\n",
       "      <td>55.600000</td>\n",
       "      <td>9.000000</td>\n",
       "      <td>0.000000</td>\n",
       "      <td>1.000000</td>\n",
       "      <td>9.000000</td>\n",
       "      <td>17.000000</td>\n",
       "      <td>4.000000</td>\n",
       "      <td>-2.000000</td>\n",
       "      <td>1.000000</td>\n",
       "      <td>50.000000</td>\n",
       "    </tr>\n",
       "    <tr>\n",
       "      <th>25%</th>\n",
       "      <td>356630.500000</td>\n",
       "      <td>70.700000</td>\n",
       "      <td>13.000000</td>\n",
       "      <td>0.000000</td>\n",
       "      <td>4.500000</td>\n",
       "      <td>16.000000</td>\n",
       "      <td>27.000000</td>\n",
       "      <td>16.000000</td>\n",
       "      <td>1.000000</td>\n",
       "      <td>3.000000</td>\n",
       "      <td>100.000000</td>\n",
       "    </tr>\n",
       "    <tr>\n",
       "      <th>50%</th>\n",
       "      <td>366708.000000</td>\n",
       "      <td>75.100000</td>\n",
       "      <td>16.000000</td>\n",
       "      <td>1.000000</td>\n",
       "      <td>5.000000</td>\n",
       "      <td>22.000000</td>\n",
       "      <td>32.000000</td>\n",
       "      <td>20.000000</td>\n",
       "      <td>1.000000</td>\n",
       "      <td>4.000000</td>\n",
       "      <td>100.000000</td>\n",
       "    </tr>\n",
       "    <tr>\n",
       "      <th>75%</th>\n",
       "      <td>397003.750000</td>\n",
       "      <td>81.275000</td>\n",
       "      <td>18.000000</td>\n",
       "      <td>1.000000</td>\n",
       "      <td>6.000000</td>\n",
       "      <td>26.000000</td>\n",
       "      <td>38.000000</td>\n",
       "      <td>24.000000</td>\n",
       "      <td>3.000000</td>\n",
       "      <td>5.000000</td>\n",
       "      <td>100.000000</td>\n",
       "    </tr>\n",
       "    <tr>\n",
       "      <th>max</th>\n",
       "      <td>812585.000000</td>\n",
       "      <td>90.300000</td>\n",
       "      <td>20.000000</td>\n",
       "      <td>2.000000</td>\n",
       "      <td>14.000000</td>\n",
       "      <td>46.000000</td>\n",
       "      <td>60.000000</td>\n",
       "      <td>35.000000</td>\n",
       "      <td>7.000000</td>\n",
       "      <td>9.000000</td>\n",
       "      <td>100.000000</td>\n",
       "    </tr>\n",
       "  </tbody>\n",
       "</table>\n",
       "</div>"
      ],
      "text/plain": [
       "       Image Data ID         AGE    PTEDUCAT       APOE4       CDRSB  \\\n",
       "count     154.000000  154.000000  154.000000  154.000000  154.000000   \n",
       "mean   371686.935065   75.142857   15.636364    0.831169    5.233766   \n",
       "std     52242.521275    8.503485    2.832625    0.674515    2.011543   \n",
       "min    298792.000000   55.600000    9.000000    0.000000    1.000000   \n",
       "25%    356630.500000   70.700000   13.000000    0.000000    4.500000   \n",
       "50%    366708.000000   75.100000   16.000000    1.000000    5.000000   \n",
       "75%    397003.750000   81.275000   18.000000    1.000000    6.000000   \n",
       "max    812585.000000   90.300000   20.000000    2.000000   14.000000   \n",
       "\n",
       "           ADAS11      ADAS13  RAVLT_immediate  RAVLT_learning  \\\n",
       "count  154.000000  154.000000       154.000000      154.000000   \n",
       "mean    22.201299   32.701299        20.116883        1.649351   \n",
       "std      7.228647    8.637303         6.409703        1.795173   \n",
       "min      9.000000   17.000000         4.000000       -2.000000   \n",
       "25%     16.000000   27.000000        16.000000        1.000000   \n",
       "50%     22.000000   32.000000        20.000000        1.000000   \n",
       "75%     26.000000   38.000000        24.000000        3.000000   \n",
       "max     46.000000   60.000000        35.000000        7.000000   \n",
       "\n",
       "       RAVLT_forgetting  RAVLT_perc_forgetting  \n",
       "count        154.000000             154.000000  \n",
       "mean           4.155844              93.876006  \n",
       "std            1.661285              12.383018  \n",
       "min            1.000000              50.000000  \n",
       "25%            3.000000             100.000000  \n",
       "50%            4.000000             100.000000  \n",
       "75%            5.000000             100.000000  \n",
       "max            9.000000             100.000000  "
      ]
     },
     "execution_count": 33,
     "metadata": {},
     "output_type": "execute_result"
    }
   ],
   "source": [
    "lon_ad_df.describe()"
   ]
  },
  {
   "cell_type": "markdown",
   "metadata": {},
   "source": [
    "## Visualising the MRI volumes"
   ]
  },
  {
   "cell_type": "code",
   "execution_count": 52,
   "metadata": {},
   "outputs": [],
   "source": [
    "import matplotlib.pyplot as plt\n",
    "import nibabel as nib\n",
    "import os\n",
    "import glob"
   ]
  },
  {
   "cell_type": "code",
   "execution_count": 53,
   "metadata": {},
   "outputs": [
    {
     "data": {
      "text/plain": [
       "<Figure size 432x288 with 0 Axes>"
      ]
     },
     "metadata": {},
     "output_type": "display_data"
    }
   ],
   "source": [
    "def show_image(image):\n",
    "    plt.imshow(image)\n",
    "    \n",
    "fig = plt.figure()"
   ]
  },
  {
   "cell_type": "markdown",
   "metadata": {},
   "source": [
    "### Visualing 5 Random NC Volumes"
   ]
  },
  {
   "cell_type": "code",
   "execution_count": 59,
   "metadata": {},
   "outputs": [
    {
     "name": "stdout",
     "output_type": "stream",
     "text": [
      "./NC/ADNI_129_S_4396_MR_Spatially_Normalized,_Masked_and_N3_corrected_T1_image_Br_20120419161636290_S140891_I298959.nii\n"
     ]
    }
   ],
   "source": [
    "file_path = glob.glob(\"./NC/*\")[0]\n",
    "print(file_path)\n",
    "mri = nib.load(file_path).get_fdata()"
   ]
  },
  {
   "cell_type": "code",
   "execution_count": 60,
   "metadata": {},
   "outputs": [
    {
     "data": {
      "text/plain": [
       "(110, 110, 110)"
      ]
     },
     "execution_count": 60,
     "metadata": {},
     "output_type": "execute_result"
    }
   ],
   "source": [
    "mri.shape"
   ]
  },
  {
   "cell_type": "code",
   "execution_count": 61,
   "metadata": {},
   "outputs": [
    {
     "data": {
      "image/png": "[encoded data removed]",
      "text/plain": [
       "<Figure size 432x288 with 4 Axes>"
      ]
     },
     "metadata": {
      "needs_background": "light"
     },
     "output_type": "display_data"
    }
   ],
   "source": [
    "for i in range(4):\n",
    "    ax = plt.subplot(1, 4, i + 1)\n",
    "    plt.tight_layout()\n",
    "    ax.set_title('slice #{}'.format(i))\n",
    "    ax.axis('off')\n",
    "    show_image(mri[50+i*10])"
   ]
  },
  {
   "cell_type": "code",
   "execution_count": null,
   "metadata": {},
   "outputs": [],
   "source": []
  }
 ],
 "metadata": {
  "kernelspec": {
   "display_name": "Python 3 (ipykernel)",
   "language": "python",
   "name": "python3"
  },
  "language_info": {
   "codemirror_mode": {
    "name": "ipython",
    "version": 3
   },
   "file_extension": ".py",
   "mimetype": "text/x-python",
   "name": "python",
   "nbconvert_exporter": "python",
   "pygments_lexer": "ipython3",
   "version": "3.9.12"
  },
  "toc": {
   "base_numbering": 1,
   "nav_menu": {},
   "number_sections": true,
   "sideBar": true,
   "skip_h1_title": false,
   "title_cell": "Table of Contents",
   "title_sidebar": "Contents",
   "toc_cell": false,
   "toc_position": {},
   "toc_section_display": true,
   "toc_window_display": true
  }
 },
 "nbformat": 4,
 "nbformat_minor": 4
}
